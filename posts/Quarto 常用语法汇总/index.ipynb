{
  "cells": [
    {
      "cell_type": "raw",
      "metadata": {},
      "source": [
        "---\n",
        "title: \"Quarto 常用语法汇总\"\n",
        "author: \"Boyce\"\n",
        "date: \"2023/08/12\"\n",
        "categories: [Quarto, 清单]\n",
        "execute: \n",
        "  eval: false\n",
        "---"
      ],
      "id": "332cc14a"
    },
    {
      "cell_type": "markdown",
      "metadata": {},
      "source": [
        "年纪大了记忆力不好，记录一下常用语法，避免每次都要重新翻阅和查询Quarto的文档。\n",
        "\n",
        "## 博文配置\n",
        "\n",
        "每篇博文开头需要配置的参数。\n",
        "\n",
        "\n",
        "```{markdown}\n",
        "---\n",
        "title: \"Quarto 常用语法汇总\"\n",
        "author: \"Boyce\"\n",
        "date: \"2023/08/12\"\n",
        "categories: [Quarto, 清单]\n",
        "---\n",
        "```\n",
        "\n",
        "\n",
        "如果需要代码块执行某些操作或者不执行某些操作，可以在开头使用`execute`进行全局设置。例如，`eval: false`表示只展示代码而不执行代码，也不会返回任何结果。\n",
        "\n",
        "\n",
        "```{markdown}\n",
        "execute: \n",
        "  eval: false\n",
        "```\n",
        "\n",
        "\n",
        "如果在单个代码块的开头修改`execute`，可以覆盖开头的全局配置。例如在代码第一行写入`#| eval: true`，表示在该代码块上执行代码。\n",
        "\n",
        "其他常用配置还包括：\n",
        "\n",
        "- `warning: false`表示执行代码但不返回警告。\n",
        "\n",
        "- `echo: false` 表示只展示输出结果，但不展示源代码。\n",
        "\n",
        "- `error: true` 表示在执行过程遇到报错也不会停止文档处理。\n",
        "\n",
        "关于`execute`的配置，详见[文档](https://quarto.org/docs/reference/cells/cells-knitr.html#code-output)。\n",
        "\n",
        "## 代码块\n",
        "\n",
        "如果只需要展示代码块的样式，而不需要在其中高亮任何样式，可以直接使用`{default}`。\n",
        "\n",
        "如果觉得单行代码太长，想要在代码块中直接换行，可以在开头写入`#| code-overflow: wrap`。\n",
        "\n",
        "## 表格\n",
        "\n",
        "想在文章中展示表格样式，可以使用`knitr::kable(dataset)`。\n",
        "\n",
        "## 相关资源\n",
        "\n",
        "- [Quarto文档](https://quarto.org/docs/reference/)\n",
        "\n",
        "- [Awesome Quarto](https://github.com/mcanouil/awesome-quarto)\n"
      ],
      "id": "dba4e4da"
    }
  ],
  "metadata": {
    "kernelspec": {
      "display_name": "Python 3",
      "language": "python",
      "name": "python3"
    }
  },
  "nbformat": 4,
  "nbformat_minor": 5
}